{
 "cells": [
  {
   "cell_type": "markdown",
   "source": [
    "# Betty's Bakery\n",
    "Betty has always used her grandmother’s recipe book to make cookies, cakes, pancakes, and bread for her friends and family. She’s getting ready to open a business and will need to start buying all of her milk, eggs, sugar, flour, and butter in bulk.\n",
    "\n",
    "Help Betty figure out how much she needs to buy using NumPy arrays describing her recipes.\n"
   ],
   "metadata": {
    "collapsed": false
   },
   "id": "33fc206f72bd61e6"
  },
  {
   "cell_type": "markdown",
   "source": [
    "1. Start by importing NumPy as np."
   ],
   "metadata": {
    "collapsed": false
   },
   "id": "f58b5b1ccd03cbd0"
  },
  {
   "cell_type": "code",
   "execution_count": 1,
   "outputs": [],
   "source": [
    "import numpy as np\n"
   ],
   "metadata": {
    "collapsed": false,
    "ExecuteTime": {
     "end_time": "2023-12-15T18:42:31.979080Z",
     "start_time": "2023-12-15T18:42:31.646550Z"
    }
   },
   "id": "109ee5623d068abb"
  },
  {
   "cell_type": "markdown",
   "source": [
    "2. All of Betty’s recipes call for milk, eggs, sugar, flour, and butter. For example, her cupcake recipe calls for:\n",
    "\n",
    "Flour\tSugar\tEggs\tMilk\tButter\n",
    "2 cups\t0.75 cups\t2 eggs\t1 cups\t0.5 cups\n",
    "Create a NumPy array that represents this data. Each element should be a number (i.e., 2 for “2 cups”). Save this array as cupcakes."
   ],
   "metadata": {
    "collapsed": false
   },
   "id": "4239b577d5e7e4f8"
  },
  {
   "cell_type": "markdown",
   "source": [
    "3. Betty’s assistant has compiled all of her recipes into a csv (comma-separated variable) file called recipes.csv. Load this file into a variable called recipes."
   ],
   "metadata": {
    "collapsed": false
   },
   "id": "d123dde07f98f373"
  },
  {
   "cell_type": "code",
   "execution_count": 2,
   "outputs": [
    {
     "name": "stdout",
     "output_type": "stream",
     "text": [
      "[2.   0.75 2.   1.   0.5 ]\n"
     ]
    }
   ],
   "source": [
    "# create cupcakes recipe array\n",
    "cupcakes = np.array([2, 0.75, 2, 1, 0.5])\n",
    "print(cupcakes)\n"
   ],
   "metadata": {
    "collapsed": false,
    "ExecuteTime": {
     "end_time": "2023-12-15T18:42:31.981342Z",
     "start_time": "2023-12-15T18:42:31.926785Z"
    }
   },
   "id": "1a7abfde3a633106"
  },
  {
   "cell_type": "markdown",
   "source": [
    "4. Display recipes using print.\n",
    "\n",
    "Each row represents a different recipe. Each column represents a different ingredient."
   ],
   "metadata": {
    "collapsed": false
   },
   "id": "ac2df1e48bc2feb8"
  },
  {
   "cell_type": "code",
   "execution_count": 3,
   "outputs": [
    {
     "name": "stdout",
     "output_type": "stream",
     "text": [
      "[[2.    0.75  2.    1.    0.5  ]\n",
      " [1.    0.125 1.    1.    0.125]\n",
      " [2.75  1.5   1.    0.    1.   ]\n",
      " [4.    0.5   2.    2.    0.5  ]]\n"
     ]
    }
   ],
   "source": [
    "# load csv file tu ndarray\n",
    "recipes = np.genfromtxt('recipes.csv', delimiter=',')\n",
    "print(recipes)\n"
   ],
   "metadata": {
    "collapsed": false,
    "ExecuteTime": {
     "end_time": "2023-12-15T18:42:31.986365Z",
     "start_time": "2023-12-15T18:42:31.955628Z"
    }
   },
   "id": "328b889c40351adb"
  },
  {
   "cell_type": "markdown",
   "source": [
    "5. The 3rd column represents the number of eggs that each recipe needs.\n",
    "\n",
    "Select all elements from the 3rd column and save them to the variable eggs."
   ],
   "metadata": {
    "collapsed": false
   },
   "id": "bc7753047c537cd0"
  },
  {
   "cell_type": "code",
   "execution_count": 4,
   "outputs": [
    {
     "name": "stdout",
     "output_type": "stream",
     "text": [
      "[2. 1. 1. 2.]\n"
     ]
    }
   ],
   "source": [
    "# select eggs column from recipes\n",
    "eggs = recipes[:,2]\n",
    "print(eggs)"
   ],
   "metadata": {
    "collapsed": false,
    "ExecuteTime": {
     "end_time": "2023-12-15T18:42:32.121596Z",
     "start_time": "2023-12-15T18:42:31.987175Z"
    }
   },
   "id": "6ce6429fa9078f47"
  },
  {
   "cell_type": "markdown",
   "source": [
    "6. Which recipes require exactly 1 egg? Use a logical statement to get True or False for each value of eggs."
   ],
   "metadata": {
    "collapsed": false
   },
   "id": "3ba67994152fa218"
  },
  {
   "cell_type": "code",
   "execution_count": 5,
   "outputs": [
    {
     "name": "stdout",
     "output_type": "stream",
     "text": [
      "[False  True  True False]\n"
     ]
    }
   ],
   "source": [
    "# select receips that only requires 1 egg\n",
    "print(eggs == 1)\n"
   ],
   "metadata": {
    "collapsed": false,
    "ExecuteTime": {
     "end_time": "2023-12-15T18:42:32.122702Z",
     "start_time": "2023-12-15T18:42:32.013759Z"
    }
   },
   "id": "fa337e0d7193ddec"
  },
  {
   "cell_type": "markdown",
   "source": [
    "7. Betty is going to make 2 batches of cupcakes (1st row) and 1 batch of cookies (3rd row).\n",
    "\n",
    "You already have a variable for cupcakes. Create a variable for cookies with the data from the 3rd row."
   ],
   "metadata": {
    "collapsed": false
   },
   "id": "9edadc3317eda048"
  },
  {
   "cell_type": "code",
   "execution_count": 6,
   "outputs": [
    {
     "name": "stdout",
     "output_type": "stream",
     "text": [
      "[2.75 1.5  1.   0.   1.  ]\n",
      "[2.   0.75 2.   1.   0.5 ]\n"
     ]
    }
   ],
   "source": [
    "cookies = recipes[2,:]\n",
    "print(cookies)\n",
    "print(cupcakes)\n"
   ],
   "metadata": {
    "collapsed": false,
    "ExecuteTime": {
     "end_time": "2023-12-15T18:42:32.124121Z",
     "start_time": "2023-12-15T18:42:32.037321Z"
    }
   },
   "id": "e11b2ec6dfbdfc11"
  },
  {
   "cell_type": "markdown",
   "source": [
    "8. Get the number of ingredients for a double batch of cupcakes by using multiplication on cupcakes. Save your new variable to double_batch."
   ],
   "metadata": {
    "collapsed": false
   },
   "id": "830ef8ccceab03a4"
  },
  {
   "cell_type": "code",
   "execution_count": 7,
   "outputs": [],
   "source": [
    "# double batch of cupcakes\n",
    "double_batch = cupcakes * 2\n"
   ],
   "metadata": {
    "collapsed": false,
    "ExecuteTime": {
     "end_time": "2023-12-15T18:42:32.124879Z",
     "start_time": "2023-12-15T18:42:32.053906Z"
    }
   },
   "id": "bd820ab53988749a"
  },
  {
   "cell_type": "markdown",
   "source": [
    "9. Create a new variable called grocery_list by adding cookies and double_batch."
   ],
   "metadata": {
    "collapsed": false
   },
   "id": "a6174041514f41b"
  },
  {
   "cell_type": "code",
   "execution_count": 8,
   "outputs": [
    {
     "name": "stdout",
     "output_type": "stream",
     "text": [
      "[6.75 3.   5.   2.   2.  ]\n"
     ]
    }
   ],
   "source": [
    "# create grocery list\n",
    "grocery_list = cookies + double_batch\n",
    "print(grocery_list)\n"
   ],
   "metadata": {
    "collapsed": false,
    "ExecuteTime": {
     "end_time": "2023-12-15T18:42:32.142892Z",
     "start_time": "2023-12-15T18:42:32.064218Z"
    }
   },
   "id": "e132387c16e451ec"
  }
 ],
 "metadata": {
  "kernelspec": {
   "display_name": "Python 3",
   "language": "python",
   "name": "python3"
  },
  "language_info": {
   "codemirror_mode": {
    "name": "ipython",
    "version": 2
   },
   "file_extension": ".py",
   "mimetype": "text/x-python",
   "name": "python",
   "nbconvert_exporter": "python",
   "pygments_lexer": "ipython2",
   "version": "2.7.6"
  }
 },
 "nbformat": 4,
 "nbformat_minor": 5
}
